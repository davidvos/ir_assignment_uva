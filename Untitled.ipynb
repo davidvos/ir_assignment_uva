{
 "cells": [
  {
   "cell_type": "code",
   "execution_count": 15,
   "metadata": {},
   "outputs": [],
   "source": [
    "import os\n",
    "import json\n",
    "import pickle as pkl\n",
    "import time\n",
    "from collections import defaultdict, Counter\n",
    "\n",
    "import numpy as np\n",
    "from tqdm import tqdm\n",
    "\n",
    "import read_ap\n",
    "import download_ap"
   ]
  },
  {
   "cell_type": "code",
   "execution_count": 23,
   "metadata": {},
   "outputs": [
    {
     "name": "stdout",
     "output_type": "stream",
     "text": [
      "Docs already processed. Loading from disk\n"
     ]
    }
   ],
   "source": [
    "# ensure dataset is downloaded\n",
    "download_ap.download_dataset()\n",
    "# pre-process the text\n",
    "docs_by_id = read_ap.get_processed_docs()"
   ]
  },
  {
   "cell_type": "code",
   "execution_count": 40,
   "metadata": {},
   "outputs": [],
   "source": [
    "def create_vocabulary(docs, vocab_file_name='vocabulary'):\n",
    "    vocab_path = \"./vocabulary.pkl\"\n",
    "    if os.path.exists(vocab_path):\n",
    "\n",
    "        with open(vocab_path, \"rb\") as reader:\n",
    "            vocab = pkl.load(reader)\n",
    "\n",
    "        vocab_len = vocab[\"vocab_len\"]\n",
    "        vocab_words = vocab[\"vocab_words\"]\n",
    "        return vocab_len, vocab_words\n",
    "    else:\n",
    "        word_counter = Counter()\n",
    "\n",
    "        doc_ids = list(docs.keys())\n",
    "\n",
    "        print(\"Building Vocabulary\")\n",
    "        for doc_id in tqdm(doc_ids):\n",
    "            doc = docs[doc_id]\n",
    "            word_counter.update(doc)\n",
    "        \n",
    "        thresholded_vocab = Counter({x : word_counter[x] for x in word_counter if word_counter[x] >= 50})\n",
    "        \n",
    "        vocab_words = [word for word, _ in thresholded_vocab.most_common()]\n",
    "        vocab_len = len(vocab_words)\n",
    "\n",
    "        with open(vocab_path, \"wb\") as writer:\n",
    "            vocab = {\n",
    "                \"vocab_len\": vocab_len,\n",
    "                \"vocab_words\": vocab_words\n",
    "            }\n",
    "            pkl.dump(vocab, writer) \n",
    "        return vocab_len, vocab_words"
   ]
  },
  {
   "cell_type": "code",
   "execution_count": 41,
   "metadata": {},
   "outputs": [
    {
     "name": "stderr",
     "output_type": "stream",
     "text": [
      "  3%|▎         | 4435/164557 [00:00<00:07, 22111.65it/s]"
     ]
    },
    {
     "name": "stdout",
     "output_type": "stream",
     "text": [
      "Building Vocabulary\n"
     ]
    },
    {
     "name": "stderr",
     "output_type": "stream",
     "text": [
      "100%|██████████| 164557/164557 [00:09<00:00, 16692.78it/s]\n"
     ]
    },
    {
     "name": "stdout",
     "output_type": "stream",
     "text": [
      "348862\n"
     ]
    }
   ],
   "source": [
    "vocab_len, vocab_words = create_vocabulary(docs_by_id)\n",
    "print(vocab_len)"
   ]
  },
  {
   "cell_type": "code",
   "execution_count": 68,
   "metadata": {},
   "outputs": [],
   "source": [
    "def get_samples(docs, window_size):\n",
    "    doc_ids = list(docs.keys())\n",
    "    for doc_id in doc_ids:\n",
    "        doc = docs[doc_id]\n",
    "        n_words = len(doc)\n",
    "        for index, word in enumerate(doc):\n",
    "            for window in range(1, window_size + 1):\n",
    "                try:\n",
    "                    if index-window >= 0 and index-window <= n_words:\n",
    "                        yield (word, doc[index-window])\n",
    "                except:\n",
    "                    pass\n",
    "                try:\n",
    "                    if index+window >= 0 and index+window <= n_words:\n",
    "                        yield (word, doc[index+window])\n",
    "                except:\n",
    "                    pass"
   ]
  },
  {
   "cell_type": "code",
   "execution_count": 149,
   "metadata": {},
   "outputs": [
    {
     "name": "stderr",
     "output_type": "stream",
     "text": [
      "Exception ignored in: <generator object get_samples at 0x1ac3d953d0>\n",
      "RuntimeError: generator ignored GeneratorExit\n"
     ]
    }
   ],
   "source": [
    "data = get_samples(docs_by_id, 2)"
   ]
  },
  {
   "cell_type": "code",
   "execution_count": 148,
   "metadata": {},
   "outputs": [
    {
     "data": {
      "text/plain": [
       "('week', 'far')"
      ]
     },
     "execution_count": 148,
     "metadata": {},
     "output_type": "execute_result"
    }
   ],
   "source": [
    "next(data)\n",
    "\n",
    "\n",
    "\n",
    "\n"
   ]
  },
  {
   "cell_type": "code",
   "execution_count": 123,
   "metadata": {},
   "outputs": [
    {
     "name": "stdout",
     "output_type": "stream",
     "text": [
      "['win', 'weekli', 'state', 'lotteri', 'number', 'pick', 'far', 'week', 'lotto', '17', '19', '22', '33', '35', '40', 'play', '4', '3-7-5-9', 'wednesday', 'megabuck', '05', '06', '11', '13', '18', '34', 'pick', '6', 'lotto', '04', '13', '18', '25', '28', '34', 'bonu', '64064', 'wednesday', 'lotto', '54', 'game', '06', '11', '17', '19', '24', '48', 'supplementari', '25', 'big', '4', 'lotteri', '8-4-8-4', 'grand', 'lot', 'game', '5-5-7', '9-6-5-1', '1-0-5-2-5', '2-9-6-6-8-8']\n"
     ]
    }
   ],
   "source": [
    "print(docs_by_id['AP880709-0002'])"
   ]
  },
  {
   "cell_type": "code",
   "execution_count": null,
   "metadata": {},
   "outputs": [],
   "source": []
  }
 ],
 "metadata": {
  "kernelspec": {
   "display_name": "Python 3",
   "language": "python",
   "name": "python3"
  },
  "language_info": {
   "codemirror_mode": {
    "name": "ipython",
    "version": 3
   },
   "file_extension": ".py",
   "mimetype": "text/x-python",
   "name": "python",
   "nbconvert_exporter": "python",
   "pygments_lexer": "ipython3",
   "version": "3.7.6"
  }
 },
 "nbformat": 4,
 "nbformat_minor": 4
}
